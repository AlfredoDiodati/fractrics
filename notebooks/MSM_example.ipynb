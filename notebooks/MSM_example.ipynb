{
 "cells": [
  {
   "cell_type": "markdown",
   "id": "bcb91eac",
   "metadata": {},
   "source": [
    "# Quick example usage\n",
    "\n",
    "The main tool in fractrics is the MSM class, an implementation of the univariate [Markov Switching Multifractal Model](https://en.wikipedia.org/wiki/Markov_switching_multifractal). The logaritmic difference between observations is modeled as the noise-adjusted square root of the product of a chosen number of latent volatility components, each following the dynamics of discrete first order markov chains, whose transition depends on geometrically-spaced Poisson arrivals, and an unconditional term, effectively being the unconditional volatility.\n",
    "\n",
    "Such structure effectively captures the behaviour of time series with fat tails, hyperbolic correlation decay, and multifractal moments, such as the returns of many financial assets.\n",
    "\n",
    "The implementation is made in JAX, simplifying parallelization of the code. Moreover, following from [this](https://papers.ssrn.com/sol3/papers.cfm?abstract_id=5276090) paper, the memory complexity of the forward algorithm is reduced, due to the factorization of latent states.\n",
    "\n",
    "To use the model, start with an example time series. Note that the model is only defined for positive time series (as it was created to model prices of financial assets)."
   ]
  },
  {
   "cell_type": "code",
   "execution_count": 1,
   "id": "d46bd0c2",
   "metadata": {},
   "outputs": [],
   "source": [
    "from fractrics.time_series.MSM import MSM\n",
    "import jax.numpy as jnp\n",
    "import numpy as np\n",
    "\n",
    "ts_test = jnp.array(np.random.normal(50, 10, 10))"
   ]
  },
  {
   "cell_type": "markdown",
   "id": "cd764185",
   "metadata": {},
   "source": [
    "Then initialize the model. It requires the following hyperparameters:\n",
    " - `num_latent`: how many volatility components, integer.\n",
    " - `marg_prob_mass`: the probability mass of the marginal distribution of the latent states, needs to sum to 1. "
   ]
  },
  {
   "cell_type": "code",
   "execution_count": 2,
   "id": "48737a63",
   "metadata": {},
   "outputs": [],
   "source": [
    "model = MSM(ts=ts_test, num_latent=3)"
   ]
  },
  {
   "cell_type": "markdown",
   "id": "9b8da494",
   "metadata": {},
   "source": [
    "To fit the model to the data, start with an initial guess. The `MSM.fit()` method then optimizes the parameters using `jaxopt`'s [Broyden–Fletcher–Goldfarb–Shanno algorithm](https://en.wikipedia.org/wiki/Broyden%E2%80%93Fletcher%E2%80%93Goldfarb%E2%80%93Shanno_algorithm).\n",
    "\n",
    "By assumption, all the parameters need to be positive, and have further individual constrains:\n",
    "\n",
    "- `marg_support`: the support of the marginal probability mass defined in the parameters. It needs to have unity expectation. In the symmetric binomial case, this can be enforced by specifying one value $m_0$, and having the second value be $2 - m_0$.\n",
    "\n",
    "- `unconditional_term`: the unconditional distribution of the model, a positive double.\n",
    "\n",
    "- `arrival_gdistance`: the geometric distance between the Poisson arrivals of each latent volatility component, a positive double.\n",
    "\n",
    "- `hf_arrival`: the highest poisson arrival probability (i.e. the proability of state switch of the highest frequency component).\n",
    "\n",
    "Note: to maintain the constrains during optimization, the parameters are transformed using mappings."
   ]
  },
  {
   "cell_type": "code",
   "execution_count": 4,
   "id": "b7e57eb4",
   "metadata": {},
   "outputs": [
    {
     "name": "stdout",
     "output_type": "stream",
     "text": [
      "[0.22855803 3.1763792  0.44004682 1.0000163  0.9999837 ]\n"
     ]
    }
   ],
   "source": [
    "initial_params = jnp.array([\n",
    "    2,    #unconditional term\n",
    "    3.0,    #arrival_gdistance\n",
    "    0.98,   #hf_arrival\n",
    "    #support\n",
    "    1.5,    \n",
    "    0.5\n",
    "])\n",
    "fitresult = model.fit(initial_parameters=initial_params, maxiter=1000, verbose=False)\n",
    "\n",
    "params, current_distribution, transition_tensor, distribution_history, negative_log_likelihood = fitresult\n",
    "print(params)\n"
   ]
  },
  {
   "cell_type": "markdown",
   "id": "67e697b2",
   "metadata": {},
   "source": [
    "It is also possible to make simulations with the MSM. To avoid tracing issues with JAX, the parameters are to be given as input for the simulation. Follows an example with the parameters of the fitted model above."
   ]
  },
  {
   "cell_type": "code",
   "execution_count": 5,
   "id": "2818701e",
   "metadata": {},
   "outputs": [],
   "source": [
    "num_latent = model.num_latent\n",
    "unconditional_term = params[0]\n",
    "arrival_gdistance = params[1]\n",
    "hf_arrival = params[2]\n",
    "marg_support = params[3:]\n",
    "\n",
    "poisson_arrivals = 1 - (1 - hf_arrival) ** (1 / (arrival_gdistance ** (jnp.arange(num_latent, 0, -1) - 1)))\n",
    "\n",
    "simulation = model.simulation(number_simulations= 1000, unconditional_term = unconditional_term,\n",
    "                              poisson_arrivals=poisson_arrivals,\n",
    "                              marginal_support = marg_support\n",
    ")\n"
   ]
  },
  {
   "cell_type": "markdown",
   "id": "ca9f14ff",
   "metadata": {},
   "source": [
    "Finally a 7 period forecast. The transition tensor and current distribution are required as input"
   ]
  },
  {
   "cell_type": "code",
   "execution_count": 6,
   "id": "f61d3d27",
   "metadata": {},
   "outputs": [],
   "source": [
    "forecast = model.forecast(7, current_distribution, *transition_tensor)"
   ]
  }
 ],
 "metadata": {
  "kernelspec": {
   "display_name": "usami",
   "language": "python",
   "name": "python3"
  },
  "language_info": {
   "codemirror_mode": {
    "name": "ipython",
    "version": 3
   },
   "file_extension": ".py",
   "mimetype": "text/x-python",
   "name": "python",
   "nbconvert_exporter": "python",
   "pygments_lexer": "ipython3",
   "version": "3.11.8"
  }
 },
 "nbformat": 4,
 "nbformat_minor": 5
}
